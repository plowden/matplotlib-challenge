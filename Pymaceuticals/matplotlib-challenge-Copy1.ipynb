{
 "cells": [
  {
   "cell_type": "code",
   "execution_count": 1,
   "metadata": {},
   "outputs": [],
   "source": [
    "# Dependencies and Setup\n",
    "%matplotlib inline\n",
    "import matplotlib.pyplot as plt\n",
    "import pandas as pd\n",
    "import numpy as np"
   ]
  },
  {
   "cell_type": "code",
   "execution_count": 2,
   "metadata": {},
   "outputs": [],
   "source": [
    "# Hide warning messages in notebook\n",
    "import warnings\n",
    "warnings.filterwarnings('ignore')"
   ]
  },
  {
   "cell_type": "code",
   "execution_count": 3,
   "metadata": {},
   "outputs": [],
   "source": [
    "# File to Load\n",
    "mouse_drug_data = \"data/mouse_drug_data.csv\"\n",
    "clinical_trial_data = \"data/clinicaltrial_data.csv\""
   ]
  },
  {
   "cell_type": "code",
   "execution_count": 4,
   "metadata": {},
   "outputs": [],
   "source": [
    "# Read the Mouse and Drug Data and the Clinical Trial Data\n",
    "mouse_drug_data_df = pd.read_csv(mouse_drug_data)\n",
    "clinical_trial_data_df = pd.read_csv(clinical_trial_data)"
   ]
  },
  {
   "cell_type": "code",
   "execution_count": 5,
   "metadata": {},
   "outputs": [],
   "source": [
    "# Combine the data into a single dataset\n",
    "dataset_df = pd.merge(mouse_drug_data_df, clinical_trial_data_df, on=\"Mouse ID\")"
   ]
  },
  {
   "cell_type": "code",
   "execution_count": 6,
   "metadata": {},
   "outputs": [
    {
     "data": {
      "text/html": [
       "<div>\n",
       "<style scoped>\n",
       "    .dataframe tbody tr th:only-of-type {\n",
       "        vertical-align: middle;\n",
       "    }\n",
       "\n",
       "    .dataframe tbody tr th {\n",
       "        vertical-align: top;\n",
       "    }\n",
       "\n",
       "    .dataframe thead th {\n",
       "        text-align: right;\n",
       "    }\n",
       "</style>\n",
       "<table border=\"1\" class=\"dataframe\">\n",
       "  <thead>\n",
       "    <tr style=\"text-align: right;\">\n",
       "      <th></th>\n",
       "      <th>Mouse ID</th>\n",
       "      <th>Drug</th>\n",
       "      <th>Timepoint</th>\n",
       "      <th>Tumor Volume (mm3)</th>\n",
       "      <th>Metastatic Sites</th>\n",
       "    </tr>\n",
       "  </thead>\n",
       "  <tbody>\n",
       "    <tr>\n",
       "      <th>0</th>\n",
       "      <td>f234</td>\n",
       "      <td>Stelasyn</td>\n",
       "      <td>0</td>\n",
       "      <td>45.000000</td>\n",
       "      <td>0</td>\n",
       "    </tr>\n",
       "    <tr>\n",
       "      <th>1</th>\n",
       "      <td>f234</td>\n",
       "      <td>Stelasyn</td>\n",
       "      <td>5</td>\n",
       "      <td>47.313491</td>\n",
       "      <td>0</td>\n",
       "    </tr>\n",
       "    <tr>\n",
       "      <th>2</th>\n",
       "      <td>f234</td>\n",
       "      <td>Stelasyn</td>\n",
       "      <td>10</td>\n",
       "      <td>47.904324</td>\n",
       "      <td>0</td>\n",
       "    </tr>\n",
       "    <tr>\n",
       "      <th>3</th>\n",
       "      <td>f234</td>\n",
       "      <td>Stelasyn</td>\n",
       "      <td>15</td>\n",
       "      <td>48.735197</td>\n",
       "      <td>1</td>\n",
       "    </tr>\n",
       "    <tr>\n",
       "      <th>4</th>\n",
       "      <td>f234</td>\n",
       "      <td>Stelasyn</td>\n",
       "      <td>20</td>\n",
       "      <td>51.112713</td>\n",
       "      <td>2</td>\n",
       "    </tr>\n",
       "    <tr>\n",
       "      <th>...</th>\n",
       "      <td>...</td>\n",
       "      <td>...</td>\n",
       "      <td>...</td>\n",
       "      <td>...</td>\n",
       "      <td>...</td>\n",
       "    </tr>\n",
       "    <tr>\n",
       "      <th>1901</th>\n",
       "      <td>j235</td>\n",
       "      <td>Placebo</td>\n",
       "      <td>0</td>\n",
       "      <td>45.000000</td>\n",
       "      <td>0</td>\n",
       "    </tr>\n",
       "    <tr>\n",
       "      <th>1902</th>\n",
       "      <td>j235</td>\n",
       "      <td>Placebo</td>\n",
       "      <td>5</td>\n",
       "      <td>46.588820</td>\n",
       "      <td>0</td>\n",
       "    </tr>\n",
       "    <tr>\n",
       "      <th>1903</th>\n",
       "      <td>j235</td>\n",
       "      <td>Placebo</td>\n",
       "      <td>10</td>\n",
       "      <td>48.018788</td>\n",
       "      <td>1</td>\n",
       "    </tr>\n",
       "    <tr>\n",
       "      <th>1904</th>\n",
       "      <td>j235</td>\n",
       "      <td>Placebo</td>\n",
       "      <td>15</td>\n",
       "      <td>51.161138</td>\n",
       "      <td>1</td>\n",
       "    </tr>\n",
       "    <tr>\n",
       "      <th>1905</th>\n",
       "      <td>j235</td>\n",
       "      <td>Placebo</td>\n",
       "      <td>20</td>\n",
       "      <td>52.942902</td>\n",
       "      <td>1</td>\n",
       "    </tr>\n",
       "  </tbody>\n",
       "</table>\n",
       "<p>1906 rows × 5 columns</p>\n",
       "</div>"
      ],
      "text/plain": [
       "     Mouse ID      Drug  Timepoint  Tumor Volume (mm3)  Metastatic Sites\n",
       "0        f234  Stelasyn          0           45.000000                 0\n",
       "1        f234  Stelasyn          5           47.313491                 0\n",
       "2        f234  Stelasyn         10           47.904324                 0\n",
       "3        f234  Stelasyn         15           48.735197                 1\n",
       "4        f234  Stelasyn         20           51.112713                 2\n",
       "...       ...       ...        ...                 ...               ...\n",
       "1901     j235   Placebo          0           45.000000                 0\n",
       "1902     j235   Placebo          5           46.588820                 0\n",
       "1903     j235   Placebo         10           48.018788                 1\n",
       "1904     j235   Placebo         15           51.161138                 1\n",
       "1905     j235   Placebo         20           52.942902                 1\n",
       "\n",
       "[1906 rows x 5 columns]"
      ]
     },
     "execution_count": 6,
     "metadata": {},
     "output_type": "execute_result"
    }
   ],
   "source": [
    "# Display the data table for preview\n",
    "dataset_df"
   ]
  },
  {
   "cell_type": "code",
   "execution_count": 7,
   "metadata": {},
   "outputs": [],
   "source": [
    "# === Tumor Response to Treatment ===\n",
    "# Store the Mean Tumor Volume Data Grouped by Drug and Timepoint \n",
    "grouped_dataset = dataset_df.groupby(['Drug','Timepoint'])"
   ]
  },
  {
   "cell_type": "code",
   "execution_count": 8,
   "metadata": {},
   "outputs": [],
   "source": [
    "# Convert to DataFrame\n",
    "tumor_response_df = pd.DataFrame(grouped_dataset['Tumor Volume (mm3)'].mean())\n",
    "tumor_response_reset_df = tumor_response_df.reset_index()"
   ]
  },
  {
   "cell_type": "code",
   "execution_count": 63,
   "metadata": {},
   "outputs": [
    {
     "data": {
      "text/html": [
       "<div>\n",
       "<style scoped>\n",
       "    .dataframe tbody tr th:only-of-type {\n",
       "        vertical-align: middle;\n",
       "    }\n",
       "\n",
       "    .dataframe tbody tr th {\n",
       "        vertical-align: top;\n",
       "    }\n",
       "\n",
       "    .dataframe thead th {\n",
       "        text-align: right;\n",
       "    }\n",
       "</style>\n",
       "<table border=\"1\" class=\"dataframe\">\n",
       "  <thead>\n",
       "    <tr style=\"text-align: right;\">\n",
       "      <th></th>\n",
       "      <th>Drug</th>\n",
       "      <th>Timepoint</th>\n",
       "      <th>Tumor Volume (mm3)</th>\n",
       "    </tr>\n",
       "  </thead>\n",
       "  <tbody>\n",
       "    <tr>\n",
       "      <th>0</th>\n",
       "      <td>Capomulin</td>\n",
       "      <td>0</td>\n",
       "      <td>45.000000</td>\n",
       "    </tr>\n",
       "    <tr>\n",
       "      <th>1</th>\n",
       "      <td>Capomulin</td>\n",
       "      <td>5</td>\n",
       "      <td>44.266086</td>\n",
       "    </tr>\n",
       "    <tr>\n",
       "      <th>2</th>\n",
       "      <td>Capomulin</td>\n",
       "      <td>10</td>\n",
       "      <td>43.084291</td>\n",
       "    </tr>\n",
       "    <tr>\n",
       "      <th>3</th>\n",
       "      <td>Capomulin</td>\n",
       "      <td>15</td>\n",
       "      <td>42.064317</td>\n",
       "    </tr>\n",
       "    <tr>\n",
       "      <th>4</th>\n",
       "      <td>Capomulin</td>\n",
       "      <td>20</td>\n",
       "      <td>40.716325</td>\n",
       "    </tr>\n",
       "    <tr>\n",
       "      <th>...</th>\n",
       "      <td>...</td>\n",
       "      <td>...</td>\n",
       "      <td>...</td>\n",
       "    </tr>\n",
       "    <tr>\n",
       "      <th>95</th>\n",
       "      <td>Zoniferol</td>\n",
       "      <td>25</td>\n",
       "      <td>55.432935</td>\n",
       "    </tr>\n",
       "    <tr>\n",
       "      <th>96</th>\n",
       "      <td>Zoniferol</td>\n",
       "      <td>30</td>\n",
       "      <td>57.713531</td>\n",
       "    </tr>\n",
       "    <tr>\n",
       "      <th>97</th>\n",
       "      <td>Zoniferol</td>\n",
       "      <td>35</td>\n",
       "      <td>60.089372</td>\n",
       "    </tr>\n",
       "    <tr>\n",
       "      <th>98</th>\n",
       "      <td>Zoniferol</td>\n",
       "      <td>40</td>\n",
       "      <td>62.916692</td>\n",
       "    </tr>\n",
       "    <tr>\n",
       "      <th>99</th>\n",
       "      <td>Zoniferol</td>\n",
       "      <td>45</td>\n",
       "      <td>65.960888</td>\n",
       "    </tr>\n",
       "  </tbody>\n",
       "</table>\n",
       "<p>100 rows × 3 columns</p>\n",
       "</div>"
      ],
      "text/plain": [
       "         Drug  Timepoint  Tumor Volume (mm3)\n",
       "0   Capomulin          0           45.000000\n",
       "1   Capomulin          5           44.266086\n",
       "2   Capomulin         10           43.084291\n",
       "3   Capomulin         15           42.064317\n",
       "4   Capomulin         20           40.716325\n",
       "..        ...        ...                 ...\n",
       "95  Zoniferol         25           55.432935\n",
       "96  Zoniferol         30           57.713531\n",
       "97  Zoniferol         35           60.089372\n",
       "98  Zoniferol         40           62.916692\n",
       "99  Zoniferol         45           65.960888\n",
       "\n",
       "[100 rows x 3 columns]"
      ]
     },
     "execution_count": 63,
     "metadata": {},
     "output_type": "execute_result"
    }
   ],
   "source": [
    "# Preview DataFrame\n",
    "tumor_response_reset_df"
   ]
  },
  {
   "cell_type": "code",
   "execution_count": 10,
   "metadata": {},
   "outputs": [
    {
     "data": {
      "text/html": [
       "<div>\n",
       "<style scoped>\n",
       "    .dataframe tbody tr th:only-of-type {\n",
       "        vertical-align: middle;\n",
       "    }\n",
       "\n",
       "    .dataframe tbody tr th {\n",
       "        vertical-align: top;\n",
       "    }\n",
       "\n",
       "    .dataframe thead th {\n",
       "        text-align: right;\n",
       "    }\n",
       "</style>\n",
       "<table border=\"1\" class=\"dataframe\">\n",
       "  <thead>\n",
       "    <tr style=\"text-align: right;\">\n",
       "      <th></th>\n",
       "      <th></th>\n",
       "      <th>Tumor Volume (mm3)</th>\n",
       "    </tr>\n",
       "    <tr>\n",
       "      <th>Drug</th>\n",
       "      <th>Timepoint</th>\n",
       "      <th></th>\n",
       "    </tr>\n",
       "  </thead>\n",
       "  <tbody>\n",
       "    <tr>\n",
       "      <th rowspan=\"5\" valign=\"top\">Capomulin</th>\n",
       "      <th>0</th>\n",
       "      <td>0.000000</td>\n",
       "    </tr>\n",
       "    <tr>\n",
       "      <th>5</th>\n",
       "      <td>0.448593</td>\n",
       "    </tr>\n",
       "    <tr>\n",
       "      <th>10</th>\n",
       "      <td>0.702684</td>\n",
       "    </tr>\n",
       "    <tr>\n",
       "      <th>15</th>\n",
       "      <td>0.838617</td>\n",
       "    </tr>\n",
       "    <tr>\n",
       "      <th>20</th>\n",
       "      <td>0.909731</td>\n",
       "    </tr>\n",
       "    <tr>\n",
       "      <th>...</th>\n",
       "      <th>...</th>\n",
       "      <td>...</td>\n",
       "    </tr>\n",
       "    <tr>\n",
       "      <th rowspan=\"5\" valign=\"top\">Zoniferol</th>\n",
       "      <th>25</th>\n",
       "      <td>0.602513</td>\n",
       "    </tr>\n",
       "    <tr>\n",
       "      <th>30</th>\n",
       "      <td>0.800043</td>\n",
       "    </tr>\n",
       "    <tr>\n",
       "      <th>35</th>\n",
       "      <td>0.881426</td>\n",
       "    </tr>\n",
       "    <tr>\n",
       "      <th>40</th>\n",
       "      <td>0.998515</td>\n",
       "    </tr>\n",
       "    <tr>\n",
       "      <th>45</th>\n",
       "      <td>1.003576</td>\n",
       "    </tr>\n",
       "  </tbody>\n",
       "</table>\n",
       "<p>100 rows × 1 columns</p>\n",
       "</div>"
      ],
      "text/plain": [
       "                     Tumor Volume (mm3)\n",
       "Drug      Timepoint                    \n",
       "Capomulin 0                    0.000000\n",
       "          5                    0.448593\n",
       "          10                   0.702684\n",
       "          15                   0.838617\n",
       "          20                   0.909731\n",
       "...                                 ...\n",
       "Zoniferol 25                   0.602513\n",
       "          30                   0.800043\n",
       "          35                   0.881426\n",
       "          40                   0.998515\n",
       "          45                   1.003576\n",
       "\n",
       "[100 rows x 1 columns]"
      ]
     },
     "execution_count": 10,
     "metadata": {},
     "output_type": "execute_result"
    }
   ],
   "source": [
    "# Store the Standard Error of Tumor Volumes Grouped by Drug and Timepoint\n",
    "tumor_volumes_sem_df = pd.DataFrame(grouped_dataset['Tumor Volume (mm3)'].sem())\n",
    "tumor_volumes_sem_df"
   ]
  },
  {
   "cell_type": "code",
   "execution_count": 11,
   "metadata": {},
   "outputs": [],
   "source": [
    "# Convert to DataFrame\n",
    "tumor_volumes_sem_df = pd.DataFrame(grouped_dataset['Tumor Volume (mm3)'].sem())"
   ]
  },
  {
   "cell_type": "code",
   "execution_count": 12,
   "metadata": {},
   "outputs": [
    {
     "data": {
      "text/html": [
       "<div>\n",
       "<style scoped>\n",
       "    .dataframe tbody tr th:only-of-type {\n",
       "        vertical-align: middle;\n",
       "    }\n",
       "\n",
       "    .dataframe tbody tr th {\n",
       "        vertical-align: top;\n",
       "    }\n",
       "\n",
       "    .dataframe thead th {\n",
       "        text-align: right;\n",
       "    }\n",
       "</style>\n",
       "<table border=\"1\" class=\"dataframe\">\n",
       "  <thead>\n",
       "    <tr style=\"text-align: right;\">\n",
       "      <th></th>\n",
       "      <th>Drug</th>\n",
       "      <th>Timepoint</th>\n",
       "      <th>Tumor Volume (mm3)</th>\n",
       "    </tr>\n",
       "  </thead>\n",
       "  <tbody>\n",
       "    <tr>\n",
       "      <th>0</th>\n",
       "      <td>Capomulin</td>\n",
       "      <td>0</td>\n",
       "      <td>0.000000</td>\n",
       "    </tr>\n",
       "    <tr>\n",
       "      <th>1</th>\n",
       "      <td>Capomulin</td>\n",
       "      <td>5</td>\n",
       "      <td>0.448593</td>\n",
       "    </tr>\n",
       "    <tr>\n",
       "      <th>2</th>\n",
       "      <td>Capomulin</td>\n",
       "      <td>10</td>\n",
       "      <td>0.702684</td>\n",
       "    </tr>\n",
       "    <tr>\n",
       "      <th>3</th>\n",
       "      <td>Capomulin</td>\n",
       "      <td>15</td>\n",
       "      <td>0.838617</td>\n",
       "    </tr>\n",
       "    <tr>\n",
       "      <th>4</th>\n",
       "      <td>Capomulin</td>\n",
       "      <td>20</td>\n",
       "      <td>0.909731</td>\n",
       "    </tr>\n",
       "    <tr>\n",
       "      <th>...</th>\n",
       "      <td>...</td>\n",
       "      <td>...</td>\n",
       "      <td>...</td>\n",
       "    </tr>\n",
       "    <tr>\n",
       "      <th>95</th>\n",
       "      <td>Zoniferol</td>\n",
       "      <td>25</td>\n",
       "      <td>0.602513</td>\n",
       "    </tr>\n",
       "    <tr>\n",
       "      <th>96</th>\n",
       "      <td>Zoniferol</td>\n",
       "      <td>30</td>\n",
       "      <td>0.800043</td>\n",
       "    </tr>\n",
       "    <tr>\n",
       "      <th>97</th>\n",
       "      <td>Zoniferol</td>\n",
       "      <td>35</td>\n",
       "      <td>0.881426</td>\n",
       "    </tr>\n",
       "    <tr>\n",
       "      <th>98</th>\n",
       "      <td>Zoniferol</td>\n",
       "      <td>40</td>\n",
       "      <td>0.998515</td>\n",
       "    </tr>\n",
       "    <tr>\n",
       "      <th>99</th>\n",
       "      <td>Zoniferol</td>\n",
       "      <td>45</td>\n",
       "      <td>1.003576</td>\n",
       "    </tr>\n",
       "  </tbody>\n",
       "</table>\n",
       "<p>100 rows × 3 columns</p>\n",
       "</div>"
      ],
      "text/plain": [
       "         Drug  Timepoint  Tumor Volume (mm3)\n",
       "0   Capomulin          0            0.000000\n",
       "1   Capomulin          5            0.448593\n",
       "2   Capomulin         10            0.702684\n",
       "3   Capomulin         15            0.838617\n",
       "4   Capomulin         20            0.909731\n",
       "..        ...        ...                 ...\n",
       "95  Zoniferol         25            0.602513\n",
       "96  Zoniferol         30            0.800043\n",
       "97  Zoniferol         35            0.881426\n",
       "98  Zoniferol         40            0.998515\n",
       "99  Zoniferol         45            1.003576\n",
       "\n",
       "[100 rows x 3 columns]"
      ]
     },
     "execution_count": 12,
     "metadata": {},
     "output_type": "execute_result"
    }
   ],
   "source": [
    "# Preview DataFrame\n",
    "# DEBUG See sample output \n",
    "tumor_volumes_sem_reset_df = tumor_volumes_sem_df.reset_index()\n",
    "tumor_volumes_sem_reset_df"
   ]
  },
  {
   "cell_type": "code",
   "execution_count": 13,
   "metadata": {},
   "outputs": [],
   "source": [
    "# Minor Data Munging to Re-Format the Data Frames\n",
    "tumor_response_pivot_df = tumor_response_reset_df.pivot_table('Tumor Volume (mm3)', ['Timepoint'], 'Drug')"
   ]
  },
  {
   "cell_type": "code",
   "execution_count": 14,
   "metadata": {},
   "outputs": [
    {
     "data": {
      "text/html": [
       "<div>\n",
       "<style scoped>\n",
       "    .dataframe tbody tr th:only-of-type {\n",
       "        vertical-align: middle;\n",
       "    }\n",
       "\n",
       "    .dataframe tbody tr th {\n",
       "        vertical-align: top;\n",
       "    }\n",
       "\n",
       "    .dataframe thead th {\n",
       "        text-align: right;\n",
       "    }\n",
       "</style>\n",
       "<table border=\"1\" class=\"dataframe\">\n",
       "  <thead>\n",
       "    <tr style=\"text-align: right;\">\n",
       "      <th>Drug</th>\n",
       "      <th>Capomulin</th>\n",
       "      <th>Ceftamin</th>\n",
       "      <th>Infubinol</th>\n",
       "      <th>Ketapril</th>\n",
       "      <th>Naftisol</th>\n",
       "      <th>Placebo</th>\n",
       "      <th>Propriva</th>\n",
       "      <th>Ramicane</th>\n",
       "      <th>Stelasyn</th>\n",
       "      <th>Zoniferol</th>\n",
       "    </tr>\n",
       "    <tr>\n",
       "      <th>Timepoint</th>\n",
       "      <th></th>\n",
       "      <th></th>\n",
       "      <th></th>\n",
       "      <th></th>\n",
       "      <th></th>\n",
       "      <th></th>\n",
       "      <th></th>\n",
       "      <th></th>\n",
       "      <th></th>\n",
       "      <th></th>\n",
       "    </tr>\n",
       "  </thead>\n",
       "  <tbody>\n",
       "    <tr>\n",
       "      <th>0</th>\n",
       "      <td>45.000000</td>\n",
       "      <td>45.000000</td>\n",
       "      <td>45.000000</td>\n",
       "      <td>45.000000</td>\n",
       "      <td>45.000000</td>\n",
       "      <td>45.000000</td>\n",
       "      <td>45.000000</td>\n",
       "      <td>45.000000</td>\n",
       "      <td>45.000000</td>\n",
       "      <td>45.000000</td>\n",
       "    </tr>\n",
       "    <tr>\n",
       "      <th>5</th>\n",
       "      <td>44.266086</td>\n",
       "      <td>46.503051</td>\n",
       "      <td>47.062001</td>\n",
       "      <td>47.389175</td>\n",
       "      <td>46.796098</td>\n",
       "      <td>47.125589</td>\n",
       "      <td>47.248967</td>\n",
       "      <td>43.944859</td>\n",
       "      <td>47.527452</td>\n",
       "      <td>46.851818</td>\n",
       "    </tr>\n",
       "    <tr>\n",
       "      <th>10</th>\n",
       "      <td>43.084291</td>\n",
       "      <td>48.285125</td>\n",
       "      <td>49.403909</td>\n",
       "      <td>49.582269</td>\n",
       "      <td>48.694210</td>\n",
       "      <td>49.423329</td>\n",
       "      <td>49.101541</td>\n",
       "      <td>42.531957</td>\n",
       "      <td>49.463844</td>\n",
       "      <td>48.689881</td>\n",
       "    </tr>\n",
       "    <tr>\n",
       "      <th>15</th>\n",
       "      <td>42.064317</td>\n",
       "      <td>50.094055</td>\n",
       "      <td>51.296397</td>\n",
       "      <td>52.399974</td>\n",
       "      <td>50.933018</td>\n",
       "      <td>51.359742</td>\n",
       "      <td>51.067318</td>\n",
       "      <td>41.495061</td>\n",
       "      <td>51.529409</td>\n",
       "      <td>50.779059</td>\n",
       "    </tr>\n",
       "    <tr>\n",
       "      <th>20</th>\n",
       "      <td>40.716325</td>\n",
       "      <td>52.157049</td>\n",
       "      <td>53.197691</td>\n",
       "      <td>54.920935</td>\n",
       "      <td>53.644087</td>\n",
       "      <td>54.364417</td>\n",
       "      <td>53.346737</td>\n",
       "      <td>40.238325</td>\n",
       "      <td>54.067395</td>\n",
       "      <td>53.170334</td>\n",
       "    </tr>\n",
       "    <tr>\n",
       "      <th>25</th>\n",
       "      <td>39.939528</td>\n",
       "      <td>54.287674</td>\n",
       "      <td>55.715252</td>\n",
       "      <td>57.678982</td>\n",
       "      <td>56.731968</td>\n",
       "      <td>57.482574</td>\n",
       "      <td>55.504138</td>\n",
       "      <td>38.974300</td>\n",
       "      <td>56.166123</td>\n",
       "      <td>55.432935</td>\n",
       "    </tr>\n",
       "    <tr>\n",
       "      <th>30</th>\n",
       "      <td>38.769339</td>\n",
       "      <td>56.769517</td>\n",
       "      <td>58.299397</td>\n",
       "      <td>60.994507</td>\n",
       "      <td>59.559509</td>\n",
       "      <td>59.809063</td>\n",
       "      <td>58.196374</td>\n",
       "      <td>38.703137</td>\n",
       "      <td>59.826738</td>\n",
       "      <td>57.713531</td>\n",
       "    </tr>\n",
       "    <tr>\n",
       "      <th>35</th>\n",
       "      <td>37.816839</td>\n",
       "      <td>58.827548</td>\n",
       "      <td>60.742461</td>\n",
       "      <td>63.371686</td>\n",
       "      <td>62.685087</td>\n",
       "      <td>62.420615</td>\n",
       "      <td>60.350199</td>\n",
       "      <td>37.451996</td>\n",
       "      <td>62.440699</td>\n",
       "      <td>60.089372</td>\n",
       "    </tr>\n",
       "    <tr>\n",
       "      <th>40</th>\n",
       "      <td>36.958001</td>\n",
       "      <td>61.467895</td>\n",
       "      <td>63.162824</td>\n",
       "      <td>66.068580</td>\n",
       "      <td>65.600754</td>\n",
       "      <td>65.052675</td>\n",
       "      <td>63.045537</td>\n",
       "      <td>36.574081</td>\n",
       "      <td>65.356386</td>\n",
       "      <td>62.916692</td>\n",
       "    </tr>\n",
       "    <tr>\n",
       "      <th>45</th>\n",
       "      <td>36.236114</td>\n",
       "      <td>64.132421</td>\n",
       "      <td>65.755562</td>\n",
       "      <td>70.662958</td>\n",
       "      <td>69.265506</td>\n",
       "      <td>68.084082</td>\n",
       "      <td>66.258529</td>\n",
       "      <td>34.955595</td>\n",
       "      <td>68.438310</td>\n",
       "      <td>65.960888</td>\n",
       "    </tr>\n",
       "  </tbody>\n",
       "</table>\n",
       "</div>"
      ],
      "text/plain": [
       "Drug       Capomulin   Ceftamin  Infubinol   Ketapril   Naftisol    Placebo  \\\n",
       "Timepoint                                                                     \n",
       "0          45.000000  45.000000  45.000000  45.000000  45.000000  45.000000   \n",
       "5          44.266086  46.503051  47.062001  47.389175  46.796098  47.125589   \n",
       "10         43.084291  48.285125  49.403909  49.582269  48.694210  49.423329   \n",
       "15         42.064317  50.094055  51.296397  52.399974  50.933018  51.359742   \n",
       "20         40.716325  52.157049  53.197691  54.920935  53.644087  54.364417   \n",
       "25         39.939528  54.287674  55.715252  57.678982  56.731968  57.482574   \n",
       "30         38.769339  56.769517  58.299397  60.994507  59.559509  59.809063   \n",
       "35         37.816839  58.827548  60.742461  63.371686  62.685087  62.420615   \n",
       "40         36.958001  61.467895  63.162824  66.068580  65.600754  65.052675   \n",
       "45         36.236114  64.132421  65.755562  70.662958  69.265506  68.084082   \n",
       "\n",
       "Drug        Propriva   Ramicane   Stelasyn  Zoniferol  \n",
       "Timepoint                                              \n",
       "0          45.000000  45.000000  45.000000  45.000000  \n",
       "5          47.248967  43.944859  47.527452  46.851818  \n",
       "10         49.101541  42.531957  49.463844  48.689881  \n",
       "15         51.067318  41.495061  51.529409  50.779059  \n",
       "20         53.346737  40.238325  54.067395  53.170334  \n",
       "25         55.504138  38.974300  56.166123  55.432935  \n",
       "30         58.196374  38.703137  59.826738  57.713531  \n",
       "35         60.350199  37.451996  62.440699  60.089372  \n",
       "40         63.045537  36.574081  65.356386  62.916692  \n",
       "45         66.258529  34.955595  68.438310  65.960888  "
      ]
     },
     "execution_count": 14,
     "metadata": {},
     "output_type": "execute_result"
    }
   ],
   "source": [
    "# Preview that Reformatting worked\n",
    "# DEBUG See sample output  \n",
    "tumor_response_pivot_df"
   ]
  },
  {
   "cell_type": "code",
   "execution_count": 98,
   "metadata": {},
   "outputs": [
    {
     "data": {
      "text/plain": [
       "[0, 5, 10, 15, 20, 25, 30, 35, 40, 45]"
      ]
     },
     "execution_count": 98,
     "metadata": {},
     "output_type": "execute_result"
    }
   ],
   "source": [
    "days = tumor_response_pivot_df.index.tolist()\n",
    "#DEBUG \n",
    "days"
   ]
  },
  {
   "cell_type": "code",
   "execution_count": 100,
   "metadata": {},
   "outputs": [],
   "source": [
    "#tumor_response_pivot_temp_df = tumor_response_pivot_df.set_index(\"Capomulin\")\n",
    "capomulin_val = tumor_response_pivot_df[\"Capomulin\"].tolist()\n",
    "infubinol_val = tumor_response_pivot_df[\"Infubinol\"].tolist()\n",
    "ketapril_val = tumor_response_pivot_df[\"Ketapril\"].tolist()\n",
    "placebo_val = tumor_response_pivot_df[\"Placebo\"].tolist()\n",
    "#DEBUG capomulin_val\n"
   ]
  },
  {
   "cell_type": "code",
   "execution_count": 101,
   "metadata": {},
   "outputs": [],
   "source": [
    "# Get DataFrame with Standard Errors\n",
    "#tumor_volumes_pivot_df = tumor_volumes_sem_reset_df.pivot_table('Tumor Volume (mm3)', ['Timepoint'], 'Drug')\n",
    "#tumor_volumes_pivot_df\n",
    "capomulin_err = tumor_volumes_pivot_df[\"Capomulin\"].tolist()\n",
    "infubinol_err = tumor_volumes_pivot_df[\"Infubinol\"].tolist()\n",
    "ketapril_err = tumor_volumes_pivot_df[\"Ketapril\"].tolist()\n",
    "placebo_err = tumor_volumes_pivot_df[\"Placebo\"].tolist()\n",
    "#DEBUG capomulin_err\n"
   ]
  },
  {
   "cell_type": "code",
   "execution_count": 118,
   "metadata": {},
   "outputs": [
    {
     "data": {
      "text/plain": [
       "<matplotlib.legend.Legend at 0x124d8e518>"
      ]
     },
     "execution_count": 118,
     "metadata": {},
     "output_type": "execute_result"
    },
    {
     "data": {
      "image/png": "[encoded data removed]",
      "text/plain": [
       "<Figure size 432x288 with 1 Axes>"
      ]
     },
     "metadata": {
      "needs_background": "light"
     },
     "output_type": "display_data"
    }
   ],
   "source": [
    "# Generate the Plot (with Error Bars)\n",
    "#capomulin = plt.errorbar(days, capomulin_val, capomulin_err, marker='o', color=\"red\", label=\"Capomulin\")\n",
    "#infubinol = plt.errorbar(days, infubinol_val, infubinol_err, marker='^', color=\"blue\", label=\"Infubinol\")\n",
    "#ketapril = plt.errorbar(days, ketapril_val, ketapril_err, marker='s', color=\"green\", label=\"Ketapril\")\n",
    "#placebo = plt.errorbar(days, placebo_val, placebo_err, marker='d', color=\"black\", label=\"Placebo\") \n",
    "#plt.title(\"Tumor Response to Treatment\")\n",
    "#plt.xlabel(\"Time (Days)\")\n",
    "#plt.ylabel(\"Tumor Volume (mm3)\")\n",
    "#plt.grid(axis='y')\n",
    "\n",
    "# Create a legend for our chart\n",
    "#plt.legend(handles=[capomulin, infubinol, ketapril, placebo], loc=\"best\")\n",
    "\n",
    "# Generate the Plot (with Error Bars)\n",
    "fig, ax = plt.subplots()\n",
    "\n",
    "capomulin = ax.errorbar(days, capomulin_val, capomulin_err, marker='o', color=\"red\", label=\"Capomulin\")\n",
    "infubinol = ax.errorbar(days, infubinol_val, infubinol_err, marker='^', color=\"blue\", label=\"Infubinol\")\n",
    "ketapril = ax.errorbar(days, ketapril_val, ketapril_err, marker='s', color=\"green\", label=\"Ketapril\")\n",
    "placebo = ax.errorbar(days, placebo_val, placebo_err, marker='d', color=\"black\", label=\"Placebo\") \n",
    "ax.set_title(\"Tumor Response to Treatment\")\n",
    "ax.set_xlabel(\"Time (Days)\")\n",
    "ax.set_ylabel(\"Tumor Volume (mm3)\")\n",
    "ax.grid(axis='y')\n",
    "\n",
    "# Create a legend for our chart\n",
    "plt.legend(handles=[capomulin, infubinol, ketapril, placebo], loc=\"best\")\n",
    "\n"
   ]
  },
  {
   "cell_type": "code",
   "execution_count": 120,
   "metadata": {},
   "outputs": [],
   "source": [
    "# Save the Figure\n",
    "fig.savefig(\"Tumor_Response_to_Treatment.jpg\")"
   ]
  },
  {
   "cell_type": "code",
   "execution_count": 121,
   "metadata": {},
   "outputs": [],
   "source": [
    "# Show the Figure\n",
    "plt.show()\n"
   ]
  },
  {
   "cell_type": "code",
   "execution_count": null,
   "metadata": {},
   "outputs": [],
   "source": [
    "# === Metastatic Response to Treatment ===\n",
    "# Store the Mean Met. Site Data Grouped by Drug and Timepoint \n"
   ]
  },
  {
   "cell_type": "code",
   "execution_count": null,
   "metadata": {},
   "outputs": [],
   "source": [
    "# Convert to DataFrame\n"
   ]
  },
  {
   "cell_type": "code",
   "execution_count": null,
   "metadata": {},
   "outputs": [],
   "source": [
    "# Preview DataFrame\n",
    "# DEBUG See sample output \n"
   ]
  },
  {
   "cell_type": "code",
   "execution_count": null,
   "metadata": {},
   "outputs": [],
   "source": [
    "# Store the Standard Error associated with Met. Sites Grouped by Drug and Timepoint \n"
   ]
  },
  {
   "cell_type": "code",
   "execution_count": null,
   "metadata": {},
   "outputs": [],
   "source": [
    "# Convert to DataFrame\n"
   ]
  },
  {
   "cell_type": "code",
   "execution_count": null,
   "metadata": {},
   "outputs": [],
   "source": [
    "# Preview DataFrame\n",
    "# DEBUG See sample output \n"
   ]
  },
  {
   "cell_type": "code",
   "execution_count": null,
   "metadata": {},
   "outputs": [],
   "source": [
    "# Minor Data Munging to Re-Format the Data Frames\n"
   ]
  },
  {
   "cell_type": "code",
   "execution_count": null,
   "metadata": {},
   "outputs": [],
   "source": [
    "# Preview that Reformatting worked\n",
    "# DEBUG See sample output \n"
   ]
  },
  {
   "cell_type": "code",
   "execution_count": null,
   "metadata": {},
   "outputs": [],
   "source": [
    "# Generate the Plot (with Error Bars)\n"
   ]
  },
  {
   "cell_type": "code",
   "execution_count": null,
   "metadata": {},
   "outputs": [],
   "source": [
    "# Save the Figure\n"
   ]
  },
  {
   "cell_type": "code",
   "execution_count": null,
   "metadata": {},
   "outputs": [],
   "source": [
    "# Show the Figure\n"
   ]
  },
  {
   "cell_type": "code",
   "execution_count": null,
   "metadata": {},
   "outputs": [],
   "source": [
    "# === Survival Rates ===\n",
    "# Store the Count of Mice Grouped by Drug and Timepoint (W can pass any metric)\n"
   ]
  },
  {
   "cell_type": "code",
   "execution_count": null,
   "metadata": {},
   "outputs": [],
   "source": [
    "# Convert to DataFrame\n"
   ]
  },
  {
   "cell_type": "code",
   "execution_count": null,
   "metadata": {},
   "outputs": [],
   "source": [
    "# Preview DataFrame\n",
    "# DEBUG See sample output \n"
   ]
  },
  {
   "cell_type": "code",
   "execution_count": null,
   "metadata": {},
   "outputs": [],
   "source": [
    "# Minor Data Munging to Re-Format the Data Frames\n",
    "\n"
   ]
  },
  {
   "cell_type": "code",
   "execution_count": null,
   "metadata": {},
   "outputs": [],
   "source": [
    "# Preview DataFrame\n",
    "# DEBUG See sample output\n"
   ]
  },
  {
   "cell_type": "code",
   "execution_count": null,
   "metadata": {},
   "outputs": [],
   "source": [
    "# Generate the Plot (Accounting for percentages)\n",
    "\n"
   ]
  },
  {
   "cell_type": "code",
   "execution_count": null,
   "metadata": {},
   "outputs": [],
   "source": [
    "# Save the Figure\n"
   ]
  },
  {
   "cell_type": "code",
   "execution_count": null,
   "metadata": {},
   "outputs": [],
   "source": [
    "# Show the Figure\n",
    "plt.show()\n"
   ]
  },
  {
   "cell_type": "code",
   "execution_count": null,
   "metadata": {},
   "outputs": [],
   "source": [
    "# === Summary Bar Graph ===\n",
    "# Calculate the percent changes for each drug\n"
   ]
  },
  {
   "cell_type": "code",
   "execution_count": null,
   "metadata": {},
   "outputs": [],
   "source": [
    "# Display the data to confirm\n",
    "# DEBUG See sample output\n"
   ]
  },
  {
   "cell_type": "code",
   "execution_count": null,
   "metadata": {},
   "outputs": [],
   "source": [
    "# Store all Relevant Percent Changes into a Tuple\n",
    "\n"
   ]
  },
  {
   "cell_type": "code",
   "execution_count": null,
   "metadata": {},
   "outputs": [],
   "source": [
    "# Splice the data between passing and failing drugs\n"
   ]
  },
  {
   "cell_type": "code",
   "execution_count": null,
   "metadata": {},
   "outputs": [],
   "source": [
    "# Orient widths. Add labels, tick marks, etc. \n"
   ]
  },
  {
   "cell_type": "code",
   "execution_count": null,
   "metadata": {},
   "outputs": [],
   "source": [
    "# Use functions to label the percentages of changes\n",
    "\n"
   ]
  },
  {
   "cell_type": "code",
   "execution_count": null,
   "metadata": {},
   "outputs": [],
   "source": [
    "# Call functions to implement the function calls\n"
   ]
  },
  {
   "cell_type": "code",
   "execution_count": null,
   "metadata": {},
   "outputs": [],
   "source": [
    "# Save the Figure\n"
   ]
  },
  {
   "cell_type": "code",
   "execution_count": null,
   "metadata": {},
   "outputs": [],
   "source": [
    "# Show the Figure\n",
    "fig.show()"
   ]
  }
 ],
 "metadata": {
  "kernelspec": {
   "display_name": "Python 3",
   "language": "python",
   "name": "python3"
  },
  "language_info": {
   "codemirror_mode": {
    "name": "ipython",
    "version": 3
   },
   "file_extension": ".py",
   "mimetype": "text/x-python",
   "name": "python",
   "nbconvert_exporter": "python",
   "pygments_lexer": "ipython3",
   "version": "3.6.9"
  }
 },
 "nbformat": 4,
 "nbformat_minor": 2
}
